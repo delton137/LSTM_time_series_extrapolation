{
 "cells": [
  {
   "cell_type": "markdown",
   "metadata": {},
   "source": [
    "### Look at dependancies "
   ]
  },
  {
   "cell_type": "code",
   "execution_count": 225,
   "metadata": {
    "collapsed": false,
    "deletable": true,
    "editable": true
   },
   "outputs": [],
   "source": [
    "import numpy\n",
    "import matplotlib.pyplot as plt\n",
    "import pandas\n",
    "import numpy as np\n",
    "from keras.models import Sequential\n",
    "from keras.layers import Dense\n",
    "from keras.layers import LSTM\n",
    "from sklearn.preprocessing import MinMaxScaler\n",
    "from sklearn.metrics import mean_squared_error \n",
    "from keras_tqdm import TQDMNotebookCallback\n",
    "\n",
    "\n",
    "# fix random seed for reproducibility\n",
    "numpy.random.seed(7)\n",
    "\n",
    "DATA_DIR = 'historical_data'\n",
    "FILE_NAME = \"USDT_BTC.csv\"\n",
    "\n",
    "# load the dataset\n",
    "dataframe = pandas.read_csv(DATA_DIR+\"/\"+FILE_NAME)\n",
    "\n",
    "interval = dataframe['date'][1]-dataframe['date'][0] #interval in seconds\n",
    "interval = interval/60 \n",
    "#print(interval)\n",
    "\n",
    "del dataframe['quoteVolume']\n",
    "del dataframe['date']\n"
   ]
  },
  {
   "cell_type": "code",
   "execution_count": 228,
   "metadata": {
    "collapsed": false,
    "deletable": true,
    "editable": true
   },
   "outputs": [
    {
     "name": "stdout",
     "output_type": "stream",
     "text": [
      "['close' 'high' 'low' 'open' 'volume' 'weightedAverage']\n",
      "99343 48931\n"
     ]
    }
   ],
   "source": [
    "col_names = dataframe.columns.values\n",
    "print(col_names)\n",
    "\n",
    "full_dataset = dataframe.values\n",
    "full_dataset = full_dataset.astype('float32')\n",
    "\n",
    "#pick out last column\n",
    "dataset = np.ones([full_dataset.shape[0],1])\n",
    "dataset[:,0] = full_dataset[:,5]\n",
    "\n",
    "#normalize the dataset\n",
    "scaler = MinMaxScaler(feature_range=(0, 1))\n",
    "dataset = scaler.fit_transform(dataset)\n",
    "\n",
    "dataset = dataset[int(len(dataset)*0.333333):len(dataset)]\n",
    "\n",
    "#split into train and test sets\n",
    "train_size = int(len(dataset) * 0.67)\n",
    "test_size = len(dataset) - train_size\n",
    "train, test = dataset[0:train_size,:], dataset[train_size:len(dataset),:]\n",
    "print(len(train), len(test))"
   ]
  },
  {
   "cell_type": "code",
   "execution_count": 238,
   "metadata": {
    "collapsed": false,
    "deletable": true,
    "editable": true
   },
   "outputs": [],
   "source": [
    "# convert an array of values into a dataset matrix\n",
    "def create_dataset(dataset, look_back=1, look_foward=1): \n",
    "    dataX, dataY = [], []\n",
    "    for i in range(len(dataset)-look_back-1):\n",
    "        a = dataset[i:(i+look_back), 0]\n",
    "        dataX.append(a)\n",
    "        dataY.append(dataset[i + look_back, 0])    \n",
    "    \n",
    "    #for i in range(len(dataset)-look_back-look_foward-1):\n",
    "    #    x = dataset[i:(i+look_back), 0]\n",
    "    #    dataX.append(x)\n",
    "    #    y = dataset[(i+look_back):(i+look_back+look_foward),0]\n",
    "    #    dataY.append(y)\n",
    "    return numpy.array(dataX), numpy.array(dataY)\n",
    "\n",
    "look_back = 50\n",
    "look_forward = 1\n",
    "trainX, trainY = create_dataset(train, look_back, look_forward)\n",
    "testX, testY = create_dataset(test, look_back, look_forward)\n",
    "\n",
    "# reshape input to be [samples, time steps, features]\n",
    "trainX = numpy.reshape(trainX, (trainX.shape[0], 1, trainX.shape[1]))\n",
    "testX = numpy.reshape(testX, (testX.shape[0], 1, testX.shape[1]))"
   ]
  },
  {
   "cell_type": "code",
   "execution_count": 239,
   "metadata": {
    "collapsed": false
   },
   "outputs": [
    {
     "name": "stdout",
     "output_type": "stream",
     "text": [
      "____________________________________________________________________________________________________\n",
      "Layer (type)                     Output Shape          Param #     Connected to                     \n",
      "====================================================================================================\n",
      "lstm_23 (LSTM)                   (None, 50)            20200       lstm_input_23[0][0]              \n",
      "____________________________________________________________________________________________________\n",
      "dense_23 (Dense)                 (None, 1)             51          lstm_23[0][0]                    \n",
      "====================================================================================================\n",
      "Total params: 20251\n",
      "____________________________________________________________________________________________________\n"
     ]
    }
   ],
   "source": [
    "\n",
    "model = Sequential()\n",
    "model.add(LSTM(50, input_shape=(1, look_back)))\n",
    "model.add(Dense(look_forward))\n",
    "model.compile(loss='mean_squared_error', optimizer='adam')\n",
    "\n",
    "model.summary()"
   ]
  },
  {
   "cell_type": "code",
   "execution_count": null,
   "metadata": {
    "collapsed": false,
    "deletable": true,
    "editable": true
   },
   "outputs": [],
   "source": [
    "model.fit(trainX, trainY, nb_epoch=50, batch_size=1000, verbose=0, callbacks=[TQDMNotebookCallback()])"
   ]
  },
  {
   "cell_type": "code",
   "execution_count": 219,
   "metadata": {
    "collapsed": false
   },
   "outputs": [],
   "source": [
    "# make predictions\n",
    "trainPredict = model.predict(trainX)\n",
    "testPredict = model.predict(testX)\n",
    "\n",
    "# invert predictions\n",
    "trainPredict = scaler.inverse_transform(trainPredict)\n",
    "trainY = scaler.inverse_transform(trainY)\n",
    "testPredict = scaler.inverse_transform(testPredict)\n",
    "testY = scaler.inverse_transform(testY)\n"
   ]
  },
  {
   "cell_type": "code",
   "execution_count": 220,
   "metadata": {
    "collapsed": false
   },
   "outputs": [
    {
     "name": "stdout",
     "output_type": "stream",
     "text": [
      "              1  \n",
      "Train RMSE: 478.6 \n",
      "Test  RMSE: 478.6 "
     ]
    }
   ],
   "source": [
    "# calculate root mean squared error at different levels of extrapolation and print results\n",
    "\n",
    "print('           ', end='')\n",
    "for i in range(look_forward):\n",
    "    print('%4i  ' % (i+1), end='')\n",
    "\n",
    "print('\\nTrain RMSE: ', end='')\n",
    "for i in range(look_forward):\n",
    "    trainScore += np.sqrt(mean_squared_error(trainY[:,i], trainPredict[:,i]))\n",
    "    print('%.1f ' % (trainScore), end='')\n",
    "    \n",
    "print('\\nTest  RMSE: ', end='')    \n",
    "for i in range(look_forward):\n",
    "    testScore += np.sqrt(mean_squared_error(testY[:,i], testPredict[:,i]))\n",
    "    print('%.1f ' % (trainScore), end='')\n",
    "\n"
   ]
  },
  {
   "cell_type": "code",
   "execution_count": null,
   "metadata": {
    "collapsed": true
   },
   "outputs": [],
   "source": [
    "print(train)"
   ]
  },
  {
   "cell_type": "code",
   "execution_count": 234,
   "metadata": {
    "collapsed": false
   },
   "outputs": [
    {
     "data": {
      "image/png": "[encoded data removed]",
      "text/plain": [
       "<matplotlib.figure.Figure at 0x7f1b38d4ae10>"
      ]
     },
     "metadata": {},
     "output_type": "display_data"
    },
    {
     "data": {
      "image/png": "[encoded data removed]",
      "text/plain": [
       "<matplotlib.figure.Figure at 0x7f1b39ab0e80>"
      ]
     },
     "metadata": {},
     "output_type": "display_data"
    }
   ],
   "source": [
    "%matplotlib inline\n",
    "\n",
    "def make_plot(dataX, predY, title=''):\n",
    "    # shift train predictions for plotting\n",
    "    min2plt = 0\n",
    "    max2plt = 2000\n",
    "    rng = max2plt - min2plt\n",
    "    lf = look_foward\n",
    "    num2plt = int(rng/lf)\n",
    "\n",
    "    data2plt = scaler.inverse_transform(dataX[:,0,:])[min2plt:max2plt,0]\n",
    "    allpreds = predY[min2plt:max2plt,:]\n",
    "\n",
    "    pred2plt = np.zeros_like(data2plt)\n",
    "    for i in range(num2plt):\n",
    "        pred2plt[i*lf:(i+1)*lf] = allpreds[i,:]\n",
    "\n",
    "    #plot baseline and predictions\n",
    "    plt.plot()\n",
    "    plt.plot(data2plt)\n",
    "    plt.plot(pred2plt)\n",
    "    plt.title(title)\n",
    "    plt.show()\n",
    "\n",
    "make_plot(trainX, trainPredict, title='test data')\n",
    "make_plot(testX,  testPredict,  title='train data')\n"
   ]
  }
 ],
 "metadata": {
  "anaconda-cloud": {},
  "kernelspec": {
   "display_name": "Python [conda root]",
   "language": "python",
   "name": "conda-root-py"
  },
  "language_info": {
   "codemirror_mode": {
    "name": "ipython",
    "version": 3
   },
   "file_extension": ".py",
   "mimetype": "text/x-python",
   "name": "python",
   "nbconvert_exporter": "python",
   "pygments_lexer": "ipython3",
   "version": "3.5.2"
  }
 },
 "nbformat": 4,
 "nbformat_minor": 2
}
